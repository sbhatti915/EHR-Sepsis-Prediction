{
 "cells": [
  {
   "cell_type": "code",
   "execution_count": 15,
   "metadata": {},
   "outputs": [],
   "source": [
    "import pandas as pd\n",
    "import matplotlib.pyplot as plt\n",
    "import os"
   ]
  },
  {
   "cell_type": "code",
   "execution_count": 16,
   "metadata": {},
   "outputs": [],
   "source": [
    "path_to_data = '/Users/Documents/ML Projects/biods220/EHR-Sepsis-Prediction/mimic_database'"
   ]
  },
  {
   "cell_type": "markdown",
   "metadata": {},
   "source": [
    "## Patient Data"
   ]
  },
  {
   "cell_type": "code",
   "execution_count": 17,
   "metadata": {},
   "outputs": [],
   "source": [
    "file_name = 'patients.csv'\n",
    "path_to_patient_data = os.path.join(path_to_data, file_name)"
   ]
  },
  {
   "cell_type": "code",
   "execution_count": 18,
   "metadata": {},
   "outputs": [
    {
     "name": "stdout",
     "output_type": "stream",
     "text": [
      "       ROW_ID  SUBJECT_ID GENDER                  DOB                  DOD  \\\n",
      "0         234         249      F  2075-03-13 00:00:00                  NaN   \n",
      "1         235         250      F  2164-12-27 00:00:00  2188-11-22 00:00:00   \n",
      "2         236         251      M  2090-03-15 00:00:00                  NaN   \n",
      "3         237         252      M  2078-03-06 00:00:00                  NaN   \n",
      "4         238         253      F  2089-11-26 00:00:00                  NaN   \n",
      "...       ...         ...    ...                  ...                  ...   \n",
      "46515   31840       44089      M  2026-05-25 00:00:00                  NaN   \n",
      "46516   31841       44115      F  2124-07-27 00:00:00                  NaN   \n",
      "46517   31842       44123      F  2049-11-26 00:00:00  2135-01-12 00:00:00   \n",
      "46518   31843       44126      F  2076-07-25 00:00:00                  NaN   \n",
      "46519   31844       44128      M  2098-07-25 00:00:00                  NaN   \n",
      "\n",
      "                  DOD_HOSP DOD_SSN  EXPIRE_FLAG  \n",
      "0                      NaN     NaN            0  \n",
      "1      2188-11-22 00:00:00     NaN            1  \n",
      "2                      NaN     NaN            0  \n",
      "3                      NaN     NaN            0  \n",
      "4                      NaN     NaN            0  \n",
      "...                    ...     ...          ...  \n",
      "46515                  NaN     NaN            0  \n",
      "46516                  NaN     NaN            0  \n",
      "46517  2135-01-12 00:00:00     NaN            1  \n",
      "46518                  NaN     NaN            0  \n",
      "46519                  NaN     NaN            0  \n",
      "\n",
      "[46520 rows x 8 columns]\n",
      "Number of patients are: 46520\n"
     ]
    }
   ],
   "source": [
    "patients_df = pd.read_csv(path_to_patient_data)\n",
    "print(patients_df)\n",
    "print(\"Number of patients are: \" + str(len(patients_df)))"
   ]
  },
  {
   "cell_type": "code",
   "execution_count": 22,
   "metadata": {},
   "outputs": [
    {
     "name": "stdout",
     "output_type": "stream",
     "text": [
      "Number of patients are: 46520\n"
     ]
    },
    {
     "data": {
      "image/png": "[encoded data removed]",
      "text/plain": [
       "<Figure size 640x480 with 1 Axes>"
      ]
     },
     "metadata": {},
     "output_type": "display_data"
    }
   ],
   "source": [
    "genders_df = patients_df['GENDER'].value_counts()\n",
    "genders_count = list(genders_df.index.values)\n",
    "genders = genders_df.tolist()\n",
    "\n",
    "plt.bar(genders_count, genders)\n",
    "plt.title(\"Gender Counts\")\n",
    "plt.xlabel(\"Gender\")\n",
    "plt.ylabel(\"Counts\")"
   ]
  },
  {
   "cell_type": "code",
   "execution_count": 30,
   "metadata": {},
   "outputs": [
    {
     "name": "stdout",
     "output_type": "stream",
     "text": [
      "Number of patients are: 46520\n",
      "Number of patients with recorded DOD are: 15759\n"
     ]
    }
   ],
   "source": [
    "print(\"Number of patients are: \" + str(len(patients_df)))\n",
    "DOD_empty_df = patients_df[patients_df['DOD'].isna()]\n",
    "print(\"Number of patients with recorded DOD are: \" + str(len(patients_df)-len(DOD_empty_df)))\n"
   ]
  }
 ],
 "metadata": {
  "interpreter": {
   "hash": "7f0f595fa4dc85c4c09166282ab23db0ecda0a3909c974aedd42a1469846d684"
  },
  "kernelspec": {
   "display_name": "Python 3.9.7 ('sepsis')",
   "language": "python",
   "name": "python3"
  },
  "language_info": {
   "codemirror_mode": {
    "name": "ipython",
    "version": 3
   },
   "file_extension": ".py",
   "mimetype": "text/x-python",
   "name": "python",
   "nbconvert_exporter": "python",
   "pygments_lexer": "ipython3",
   "version": "3.9.7"
  },
  "orig_nbformat": 4
 },
 "nbformat": 4,
 "nbformat_minor": 2
}
